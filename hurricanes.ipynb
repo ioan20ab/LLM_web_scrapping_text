{
 "cells": [
  {
   "cell_type": "code",
   "execution_count": 1,
   "metadata": {},
   "outputs": [],
   "source": [
    "import requests\n",
    "from bs4 import BeautifulSoup\n",
    "import pandas as pd"
   ]
  },
  {
   "cell_type": "code",
   "execution_count": 2,
   "metadata": {},
   "outputs": [],
   "source": [
    "# Fetch the webpage\n",
    "url = \"https://en.wikipedia.org/wiki/1975_Pacific_hurricane_season\"\n",
    "response = requests.get(url)\n",
    "soup = BeautifulSoup(response.text, 'html.parser')"
   ]
  },
  {
   "cell_type": "code",
   "execution_count": 4,
   "metadata": {
    "scrolled": true
   },
   "outputs": [
    {
     "name": "stdout",
     "output_type": "stream",
     "text": [
      "{'Hurricane Agatha[edit]': 'An area of disturbed weather about 290\\xa0mi (467\\xa0km) southwest of Acapulco formed on June 1. It organized into a tropical depression the next day. After heading southwestward, it turned to the northwest and strengthened into Tropical Storm Agatha on June 2. Agatha maintained its course and steadily intensified. It reached hurricane intensity on June 3 while located about 170\\xa0mi (270\\xa0km) southwest of Zihuatanejo. Hurricane Agatha started weakening thereafter, becoming a tropical storm on June 4 and a depression on June 5. It dissipated shortly afterwards. At this time, Agatha was located about 140\\xa0mi (230\\xa0km) south of the Tres Marias Islands.[4]\\n', 'Tropical Storm Bridget[edit]': 'On June 27, a tropical depression formed about 575\\xa0mi (925\\xa0km) south of the tip of the Baja California Peninsula at a location atypical for tropical cyclogenesis. The depression moved generally westward, and intensified into Tropical Storm Bridget on June 28. It started accelerating as it turned towards the northwest, then west, and eventually to the southwest. Bridget weakened into a tropical depression on July 2 and dissipated the next day. It remnant circulation hung about in the area for a few more days. Bridget never came near land and thus, no deaths or damage were recorded.[4]\\n', 'Hurricane Carlotta[edit]': 'A disturbance 480\\xa0mi (772\\xa0km) south of Acapulco organized into a tropical depression on July 2. It headed generally west-northwest and steadily intensified, becoming a tropical storm later on July 2. It became a hurricane on July 3 and ultimately peaked as a Category 3 hurricane.[4] Hurricane Carlotta was first major hurricane, Category 3 or higher, of the season.[2] It began weakening thereafter, and was a tropical storm by July 8. Carlotta became a depression on July 10 and dissipated the next day.[4] The hurricane did not come near land and caused no significant impact.[4]\\n', 'Hurricane Denise[edit]': 'An unstable area developed a circulation and became a tropical depression on July 4. It headed west- northwest and became a tropical storm on July 7. The next day, it was a hurricane and turned to the west. Continuing to strengthen, it reached Category\\xa04 intensity on July 9.[4] This windspeed was the highest of the season.[2] The hurricane turned to the southwest and gradually weakened. By July 11 it was nearly stationary. It then headed northwestward again and continued weakening, becoming a tropical storm on July 13. It weakened into a depression on July 14 and dissipated immediately thereafter. Denise brought winds of near-gale force to parts of Mexico, but otherwise caused no damage or casualties.[4]\\n', 'Tropical Storm Eleanor[edit]': 'An area of disturbed weather developed into a tropical depression on July 10, 100\\xa0mi (160\\xa0km) south of Acapulco. As its center of circulation became more pronounced and it was upgraded into Tropical Storm Eleanor. The tropical storm moved northwestward, and later curved northward. The system made landfall near Manzanillo on July 12. It quickly dissipated. Eleanor brought 20\\xa0mph (32\\xa0km/h) winds the Manzanillo, but damage from the storm is minor due to the lack of heavy rains.[4]\\n', 'Tropical Storm Francene[edit]': \"A rapidly moving squally area of disturbed weather that was moving on a northwestward path was upgraded into Tropical Depression Seven on July 27. It intensified into a tropical storm later that day. Francene turned to the west and weakened into a tropical depression on July 28. It slowly weakened and ceased to exist as a tropical cyclone on July 30. Francene's remnants persisted as a tropical disturbance for another twelve hours, before completely dissipating. This tropical cyclone caused no known impact.[4]\\n\", 'Tropical Storm Georgette[edit]': 'An area of disturbed weather about 800\\xa0mi (1,287\\xa0km) south-southwest of Cabo San Lucas organized a tropical depression on August 11. It was upgraded to tropical storm intensity the next day. After heading generally westward and peaking as a weak to moderate tropical storm on August 12, Georgette slowly weakened.[4] It weakened into a depression on August 14 and underwent extratropical transition thereafter. The cyclone dissipated twelve hours later.[2] Tropical Storm Georgette had no impact on land.[4]\\n', 'Tropical Storm Hilary[edit]': 'A tropical disturbance formed on August 11 and gradually organized. The next day, an atmospheric circulation developed. Based on this, this system was classified as Tropical Depression Nine on August 13. The depression quickly intensified into a tropical storm and was named Hilary. The system gradually accelerated to the northwest[4] and reached its peak strength on August 15 with winds of 60\\xa0mph (95\\xa0km/h).[2] Tropical Storm Hilary then started a gradual weakening trend. It became a depression on August 16, turned a little bit more westward, and dissipated on August 17. Hilary never came near land, and as such caused no death or damage.[4]\\n', 'Hurricane Ilsa[edit]': \"On August 18, a tropical depression formed south of the Gulf of Tehuantepec from a tropical wave that had entered the Pacific Ocean from the Atlantic Ocean. It strengthened into a tropical storm later that day. The tropical storm moved westward, and became a hurricane on August 21.[4] Ilsa became a Category 2 hurricane on August 22. It maintained that intensity for three days as it moved out to sea.[2] On August 25, Ilsa turned westward and rapidly weakened. It fell to tropical storm intensity on August 26. Later that day, while still maintaining winds of gale-force, Ilsa ceased being a tropical cyclone.[2] Ilsa's remnants continued out over the open Pacific Ocean.[4] The remains of Ilsa eventually interacted with another weather system. That triggered the development of the unnamed hurricane of August 31–September 5[5]\\n\", 'Hurricane Jewel[edit]': 'On August\\xa024, a tropical depression formed from a tropical disturbance about 250\\xa0mi (400\\xa0km) south of Acapulco. It intensified into Tropical Storm Jewel the next day. The tropical cyclone headed generally northwest and paralleled the coast of Mexico.[4] On August\\xa027, Jewel became a hurricane for mere six hours,[2] the minimum possible time in HURDAT.[11] Jewel then turned to the west, and then back to the northwest. Jewel weakened to depression strength on August\\xa031. Tropical Depression Jewel dissipated shortly after that, although its remnants remained distinct until September\\xa03. There was no impact.[4]\\n', 'Hurricane Katrina[edit]': 'On August\\xa029, an area of weather developed directly into a tropical storm, skipping the tropical depression stage.[2] Katrina steadily intensified as it headed west-northwest, gradually turning to the northwest. It peaked in intensity on September\\xa03 as a Category\\xa04 hurricane with winds of 130\\xa0mph (209\\xa0km/h), the second highest of the season.[2] Katrina then headed westward and rapidly weakened. It was downgraded into a tropical storm on September\\xa05 and a depression on September\\xa06. The last advisory was issued on September\\xa07 when Katrina dissipated. Although the hurricane brought Category\\xa03-equivalent winds to Socorro Island on September\\xa02, no damage was reported there or anywhere else.[4]\\n', 'Unnamed hurricane[edit]': 'The remnants of Hurricane Ilsa interacted with a mid-level trough to produce a new low-level circulation on August\\xa031, about 930 miles (1,500\\xa0km) northeast of Hawaii. The new system absorbed the remnants of Ilsa as it moved westward. Thunderstorms increased around the low, resembling a subtropical cyclone by September\\xa01. Its track over warmer waters caused the storm to transition into a tropical storm on September\\xa02, by which time the convection organized into rainbands. By that time, the storm was about 685 miles (1,102\\xa0km) north of the Hawaiian island of Kauai. The storm quickly developed a central dense overcast, and by 00:00\\xa0UTC on September 3 Dvorak classifications began on the cyclone. An approaching cold front turned the storm to the north and northeast. Around that time, the storm developed an eye in the center of the convection, suggesting that it intensified into a hurricane late on September\\xa03, located about 1,170 miles (1,885\\xa0km) south of Alaska. It was a small system, measuring about 85 miles (140\\xa0km) in diameter.[12] A nearby ship reported sustained winds of 63\\xa0mph (102\\xa0km/h), while another nearby ship reported a pressure of 1003\\xa0mbar (29.6\\xa0inHg), with a 3-hour tendency increase of 13.5\\xa0mbar (0.40\\xa0inHg), suggesting a minimum pressure of under 990\\xa0mbar (29\\xa0inHg).[4][12][13] After maintaining hurricane status for about 18\\xa0hours, the storm weakened due to strong wind shear from the approaching cold front. Early on September 5, the cyclone became extratropical in the Gulf of Alaska, while located about 315 miles (510\\xa0km) southwest of Juneau, Alaska. On the same day, the circulation was rapidly absorbed by the frontal system,[13] and the remnants quickly reached the coast of British Columbia.[5][12] The remnants of the storm turned southeastward, and the low was last tracked definitively to a point north of Montana.[13]\\n', 'Hurricane Lily[edit]': 'Rain and wind reports from the Acapulco weather station suggested that a tropical depression was developing. This was confirmed on September\\xa016 from ship reports. It intensified into a tropical storm and was named Lily. Tropical Storm Lily headed northwest in a nearly straight path. By 0000 UTC September\\xa018, the system was a moderate tropical storm located about 160\\xa0mi (260\\xa0km) south of Manzanillo Lily was upgraded to hurricane status on the same day and eventually reached its peak strength. After passing southwest of Socorro Island, Lily weakened, becoming a storm on September\\xa020. Lily weakened into a depression on September\\xa021, turned to the west-southwest, and dissipated. Its remnants remained visible until September\\xa024, when they were no longer distinct via weather satellite. On September\\xa019, the cyclone brought hurricane-force winds to Socorro Island. No damage or casualties were reported.[4]\\n', 'Tropical Storm Monica[edit]': 'In late September, three tropical disturbances moved westward across the eastern Pacific Ocean. One of them organized into a tropical depression on September\\xa028. The next day the depression was upgraded to Tropical Storm Monica. The tropical storm initially headed west-northwestward and gradually curved towards the north. It reached its peak intensity of 50\\xa0mph (85\\xa0km/h) on September\\xa029. Monica then gradually weakened. It became a tropical depression on October\\xa01. The cyclone dissipated shortly thereafter. No impact was reported in association with Tropical Storm Monica.[4]\\n', 'Tropical Storm Nanette[edit]': 'On September\\xa028, a system developed into a tropical depression, simultaneously with Tropical Storm Monica.. It headed generally westward and on September\\xa029, 18 hours after Monica did it, strengthened into a tropical storm.[2][4] Nanette continued out to sea and slowly strengthened. It peaked in windspeed of 50\\xa0mph (85\\xa0km/h) on October\\xa03 and turned to the southwest. It then slowly weakened. On October\\xa04, it weakened into a tropical depression and then degenerated into a disturbance that same day. No damage or deaths were reported.[4]\\n', 'Hurricane Olivia[edit]': 'On October\\xa022, Tropical Depression Eighteen formed from a cluster of three thunderstorms south of Mexico and then strengthened into a tropical storm.[4] It moved northwestward initially, followed by a northeast turn. Olivia then intensified steadily. It reached Category 3 intensity and a peak of 115\\xa0mph (185\\xa0km/h) winds just before landfall. Early on October\\xa025, Olivia moved ashore just south of Mazatlán causing major damage. Olivia destroyed 7,000\\xa0houses in the region,[4] leaving 30,000\\xa0people homeless,[14] and damage totaled $20\\xa0million (1975\\xa0USD, $113\\xa0million 2024\\xa0USD).[4] The hurricane killed 30\\xa0people,[15] 20 of them were from drownings in shrimp boats.[4]\\n', 'Tropical Storm Priscilla[edit]': 'A nearly stationary cloudy area developed a circulation on November\\xa02. The depression drifted north for a while before turning to the west-northwest on November\\xa03. It intensified into a tropical storm on November\\xa04. Priscilla then began turning to the north. However, the system failed to re-curve, instead, the tropical storm turned generally westward. The tropical storm peaked in windspeed as a 65\\xa0mph (100\\xa0km/h) high-end storm on November\\xa05. It then turned to the northwest on a heading nearly directly at Clarion Island, but it dissipated on November\\xa07[2] about 115\\xa0mi (185\\xa0km) short of landfall.[4]\\n', 'Other systems[edit]': 'Besides the tropical storms and hurricanes this season, there were four additional tropical depressions within the eastern Pacific. None of them made landfall anywhere or crossed into the central Pacific. Tropical Cyclone Four formed on July\\xa02 and dissipated the next day. Tropical Cyclone Thirteen formed on September\\xa012 and lasted four days. Tropical Cyclone Seventeen formed October\\xa016 and dissipated a day later. Tropical Cyclone Nineteen formed on November 1 and also dissipated the next day.[4]\\n'}\n"
     ]
    }
   ],
   "source": [
    "# Placeholder for storing hurricane data\n",
    "hurricanes = {}\n",
    "\n",
    "# Extract relevant data (looking for hurricane systems)\n",
    "for header in soup.find_all( class_='mw-heading mw-heading3'):\n",
    "    storm_name = header.text\n",
    "    \n",
    "    # Extract start date, end date, deaths, and affected areas\n",
    "    # We could also extract the duration dates from the infobox table but we will use the <p> text for simplicity\n",
    "    storm_text = header.find_next('p').text  # You might need to adjust this logic\n",
    "    hurricanes.update({storm_name:storm_text}) \n",
    "\n",
    "    \n",
    "print(hurricanes)\n",
    "    "
   ]
  },
  {
   "cell_type": "code",
   "execution_count": 32,
   "metadata": {
    "scrolled": true
   },
   "outputs": [
    {
     "name": "stdout",
     "output_type": "stream",
     "text": [
      "Hurricane Agatha[edit] An area of disturbed weather about 290 mi (467 km) southwest of Acapulco formed on June 1. It organized into a tropical depression the next day. After heading southwestward, it turned to the northwest and strengthened into Tropical Storm Agatha on June 2. Agatha maintained its course and steadily intensified. It reached hurricane intensity on June 3 while located about 170 mi (270 km) southwest of Zihuatanejo. Hurricane Agatha started weakening thereafter, becoming a tropical storm on June 4 and a depression on June 5. It dissipated shortly afterwards. At this time, Agatha was located about 140 mi (230 km) south of the Tres Marias Islands.[4]\n",
      "\n",
      "Tropical Storm Bridget[edit] On June 27, a tropical depression formed about 575 mi (925 km) south of the tip of the Baja California Peninsula at a location atypical for tropical cyclogenesis. The depression moved generally westward, and intensified into Tropical Storm Bridget on June 28. It started accelerating as it turned towards the northwest, then west, and eventually to the southwest. Bridget weakened into a tropical depression on July 2 and dissipated the next day. It remnant circulation hung about in the area for a few more days. Bridget never came near land and thus, no deaths or damage were recorded.[4]\n",
      "\n",
      "Hurricane Carlotta[edit] A disturbance 480 mi (772 km) south of Acapulco organized into a tropical depression on July 2. It headed generally west-northwest and steadily intensified, becoming a tropical storm later on July 2. It became a hurricane on July 3 and ultimately peaked as a Category 3 hurricane.[4] Hurricane Carlotta was first major hurricane, Category 3 or higher, of the season.[2] It began weakening thereafter, and was a tropical storm by July 8. Carlotta became a depression on July 10 and dissipated the next day.[4] The hurricane did not come near land and caused no significant impact.[4]\n",
      "\n",
      "Hurricane Denise[edit] An unstable area developed a circulation and became a tropical depression on July 4. It headed west- northwest and became a tropical storm on July 7. The next day, it was a hurricane and turned to the west. Continuing to strengthen, it reached Category 4 intensity on July 9.[4] This windspeed was the highest of the season.[2] The hurricane turned to the southwest and gradually weakened. By July 11 it was nearly stationary. It then headed northwestward again and continued weakening, becoming a tropical storm on July 13. It weakened into a depression on July 14 and dissipated immediately thereafter. Denise brought winds of near-gale force to parts of Mexico, but otherwise caused no damage or casualties.[4]\n",
      "\n",
      "Tropical Storm Eleanor[edit] An area of disturbed weather developed into a tropical depression on July 10, 100 mi (160 km) south of Acapulco. As its center of circulation became more pronounced and it was upgraded into Tropical Storm Eleanor. The tropical storm moved northwestward, and later curved northward. The system made landfall near Manzanillo on July 12. It quickly dissipated. Eleanor brought 20 mph (32 km/h) winds the Manzanillo, but damage from the storm is minor due to the lack of heavy rains.[4]\n",
      "\n",
      "Tropical Storm Francene[edit] A rapidly moving squally area of disturbed weather that was moving on a northwestward path was upgraded into Tropical Depression Seven on July 27. It intensified into a tropical storm later that day. Francene turned to the west and weakened into a tropical depression on July 28. It slowly weakened and ceased to exist as a tropical cyclone on July 30. Francene's remnants persisted as a tropical disturbance for another twelve hours, before completely dissipating. This tropical cyclone caused no known impact.[4]\n",
      "\n",
      "Tropical Storm Georgette[edit] An area of disturbed weather about 800 mi (1,287 km) south-southwest of Cabo San Lucas organized a tropical depression on August 11. It was upgraded to tropical storm intensity the next day. After heading generally westward and peaking as a weak to moderate tropical storm on August 12, Georgette slowly weakened.[4] It weakened into a depression on August 14 and underwent extratropical transition thereafter. The cyclone dissipated twelve hours later.[2] Tropical Storm Georgette had no impact on land.[4]\n",
      "\n",
      "Tropical Storm Hilary[edit] A tropical disturbance formed on August 11 and gradually organized. The next day, an atmospheric circulation developed. Based on this, this system was classified as Tropical Depression Nine on August 13. The depression quickly intensified into a tropical storm and was named Hilary. The system gradually accelerated to the northwest[4] and reached its peak strength on August 15 with winds of 60 mph (95 km/h).[2] Tropical Storm Hilary then started a gradual weakening trend. It became a depression on August 16, turned a little bit more westward, and dissipated on August 17. Hilary never came near land, and as such caused no death or damage.[4]\n",
      "\n",
      "Hurricane Ilsa[edit] On August 18, a tropical depression formed south of the Gulf of Tehuantepec from a tropical wave that had entered the Pacific Ocean from the Atlantic Ocean. It strengthened into a tropical storm later that day. The tropical storm moved westward, and became a hurricane on August 21.[4] Ilsa became a Category 2 hurricane on August 22. It maintained that intensity for three days as it moved out to sea.[2] On August 25, Ilsa turned westward and rapidly weakened. It fell to tropical storm intensity on August 26. Later that day, while still maintaining winds of gale-force, Ilsa ceased being a tropical cyclone.[2] Ilsa's remnants continued out over the open Pacific Ocean.[4] The remains of Ilsa eventually interacted with another weather system. That triggered the development of the unnamed hurricane of August 31–September 5[5]\n",
      "\n",
      "Hurricane Jewel[edit] On August 24, a tropical depression formed from a tropical disturbance about 250 mi (400 km) south of Acapulco. It intensified into Tropical Storm Jewel the next day. The tropical cyclone headed generally northwest and paralleled the coast of Mexico.[4] On August 27, Jewel became a hurricane for mere six hours,[2] the minimum possible time in HURDAT.[11] Jewel then turned to the west, and then back to the northwest. Jewel weakened to depression strength on August 31. Tropical Depression Jewel dissipated shortly after that, although its remnants remained distinct until September 3. There was no impact.[4]\n",
      "\n",
      "Hurricane Katrina[edit] On August 29, an area of weather developed directly into a tropical storm, skipping the tropical depression stage.[2] Katrina steadily intensified as it headed west-northwest, gradually turning to the northwest. It peaked in intensity on September 3 as a Category 4 hurricane with winds of 130 mph (209 km/h), the second highest of the season.[2] Katrina then headed westward and rapidly weakened. It was downgraded into a tropical storm on September 5 and a depression on September 6. The last advisory was issued on September 7 when Katrina dissipated. Although the hurricane brought Category 3-equivalent winds to Socorro Island on September 2, no damage was reported there or anywhere else.[4]\n",
      "\n",
      "Unnamed hurricane[edit] The remnants of Hurricane Ilsa interacted with a mid-level trough to produce a new low-level circulation on August 31, about 930 miles (1,500 km) northeast of Hawaii. The new system absorbed the remnants of Ilsa as it moved westward. Thunderstorms increased around the low, resembling a subtropical cyclone by September 1. Its track over warmer waters caused the storm to transition into a tropical storm on September 2, by which time the convection organized into rainbands. By that time, the storm was about 685 miles (1,102 km) north of the Hawaiian island of Kauai. The storm quickly developed a central dense overcast, and by 00:00 UTC on September 3 Dvorak classifications began on the cyclone. An approaching cold front turned the storm to the north and northeast. Around that time, the storm developed an eye in the center of the convection, suggesting that it intensified into a hurricane late on September 3, located about 1,170 miles (1,885 km) south of Alaska. It was a small system, measuring about 85 miles (140 km) in diameter.[12] A nearby ship reported sustained winds of 63 mph (102 km/h), while another nearby ship reported a pressure of 1003 mbar (29.6 inHg), with a 3-hour tendency increase of 13.5 mbar (0.40 inHg), suggesting a minimum pressure of under 990 mbar (29 inHg).[4][12][13] After maintaining hurricane status for about 18 hours, the storm weakened due to strong wind shear from the approaching cold front. Early on September 5, the cyclone became extratropical in the Gulf of Alaska, while located about 315 miles (510 km) southwest of Juneau, Alaska. On the same day, the circulation was rapidly absorbed by the frontal system,[13] and the remnants quickly reached the coast of British Columbia.[5][12] The remnants of the storm turned southeastward, and the low was last tracked definitively to a point north of Montana.[13]\n",
      "\n",
      "Hurricane Lily[edit] Rain and wind reports from the Acapulco weather station suggested that a tropical depression was developing. This was confirmed on September 16 from ship reports. It intensified into a tropical storm and was named Lily. Tropical Storm Lily headed northwest in a nearly straight path. By 0000 UTC September 18, the system was a moderate tropical storm located about 160 mi (260 km) south of Manzanillo Lily was upgraded to hurricane status on the same day and eventually reached its peak strength. After passing southwest of Socorro Island, Lily weakened, becoming a storm on September 20. Lily weakened into a depression on September 21, turned to the west-southwest, and dissipated. Its remnants remained visible until September 24, when they were no longer distinct via weather satellite. On September 19, the cyclone brought hurricane-force winds to Socorro Island. No damage or casualties were reported.[4]\n",
      "\n",
      "Tropical Storm Monica[edit] In late September, three tropical disturbances moved westward across the eastern Pacific Ocean. One of them organized into a tropical depression on September 28. The next day the depression was upgraded to Tropical Storm Monica. The tropical storm initially headed west-northwestward and gradually curved towards the north. It reached its peak intensity of 50 mph (85 km/h) on September 29. Monica then gradually weakened. It became a tropical depression on October 1. The cyclone dissipated shortly thereafter. No impact was reported in association with Tropical Storm Monica.[4]\n",
      "\n",
      "Tropical Storm Nanette[edit] On September 28, a system developed into a tropical depression, simultaneously with Tropical Storm Monica.. It headed generally westward and on September 29, 18 hours after Monica did it, strengthened into a tropical storm.[2][4] Nanette continued out to sea and slowly strengthened. It peaked in windspeed of 50 mph (85 km/h) on October 3 and turned to the southwest. It then slowly weakened. On October 4, it weakened into a tropical depression and then degenerated into a disturbance that same day. No damage or deaths were reported.[4]\n",
      "\n",
      "Hurricane Olivia[edit] On October 22, Tropical Depression Eighteen formed from a cluster of three thunderstorms south of Mexico and then strengthened into a tropical storm.[4] It moved northwestward initially, followed by a northeast turn. Olivia then intensified steadily. It reached Category 3 intensity and a peak of 115 mph (185 km/h) winds just before landfall. Early on October 25, Olivia moved ashore just south of Mazatlán causing major damage. Olivia destroyed 7,000 houses in the region,[4] leaving 30,000 people homeless,[14] and damage totaled $20 million (1975 USD, $113 million 2024 USD).[4] The hurricane killed 30 people,[15] 20 of them were from drownings in shrimp boats.[4]\n",
      "\n",
      "Tropical Storm Priscilla[edit] A nearly stationary cloudy area developed a circulation on November 2. The depression drifted north for a while before turning to the west-northwest on November 3. It intensified into a tropical storm on November 4. Priscilla then began turning to the north. However, the system failed to re-curve, instead, the tropical storm turned generally westward. The tropical storm peaked in windspeed as a 65 mph (100 km/h) high-end storm on November 5. It then turned to the northwest on a heading nearly directly at Clarion Island, but it dissipated on November 7[2] about 115 mi (185 km) short of landfall.[4]\n",
      "\n",
      "Other systems[edit] Besides the tropical storms and hurricanes this season, there were four additional tropical depressions within the eastern Pacific. None of them made landfall anywhere or crossed into the central Pacific. Tropical Cyclone Four formed on July 2 and dissipated the next day. Tropical Cyclone Thirteen formed on September 12 and lasted four days. Tropical Cyclone Seventeen formed October 16 and dissipated a day later. Tropical Cyclone Nineteen formed on November 1 and also dissipated the next day.[4]\n",
      "\n"
     ]
    }
   ],
   "source": [
    "for h, text in hurricanes.items():\n",
    "    print(h, text)"
   ]
  },
  {
   "cell_type": "code",
   "execution_count": 33,
   "metadata": {},
   "outputs": [],
   "source": [
    "import os\n",
    "from openai import OpenAI\n",
    "import json\n",
    "\n",
    "client = OpenAI(\n",
    "  api_key=os.environ['OPENAI_API_KEY'],\n",
    ")"
   ]
  },
  {
   "cell_type": "code",
   "execution_count": 37,
   "metadata": {},
   "outputs": [],
   "source": [
    "extract_info = [\n",
    "    {\n",
    "        'name': 'extract_hurricane_info',\n",
    "        'description': 'Get the hurricane information: date_start,date_end,number_of_deaths and list_of_areas_affected from the body of the input text',\n",
    "        'parameters': {\n",
    "            'type': 'object',\n",
    "            'properties': {\n",
    "                'date_start': {\n",
    "                    'type': 'string',\n",
    "                    'description': 'Date when the hurricane / storm started in 1975 '\n",
    "                },\n",
    "                'date_end': {\n",
    "                    'type': 'string',\n",
    "                    'description': 'Date when the hurricane / storm ended in 1975.'\n",
    "                },\n",
    "                'number_of_deaths': {\n",
    "                    'type': 'integer',\n",
    "                    'description': 'The number of deaths during the hurricane / storm .'\n",
    "                },\n",
    "                'list_of_areas_affected': {\n",
    "                    'type': 'string',\n",
    "                    'description': 'the areas affected by the hurricane / storm separated by \",\".'\n",
    "                }\n",
    "                \n",
    "            }\n",
    "        }\n",
    "    }\n",
    "]"
   ]
  },
  {
   "cell_type": "code",
   "execution_count": 43,
   "metadata": {},
   "outputs": [],
   "source": [
    "\n",
    "hurri_list = []\n",
    "for h, text in hurricanes.items():\n",
    "    h = {}\n",
    "    response = client.chat.completions.create(\n",
    "    model = 'gpt-4o-2024-08-06',\n",
    "    messages = [{'role': 'user', 'content': text}],\n",
    "    functions = extract_info,\n",
    "    function_call = 'auto'\n",
    "    )\n",
    "    response_message = response.choices[0].message\n",
    "    # Extracting the arguments\n",
    "    function_args  = json.loads(response_message.function_call.arguments)\n",
    "    h.update(function_args)\n",
    "    hurri_list.append(h)\n"
   ]
  },
  {
   "cell_type": "code",
   "execution_count": 47,
   "metadata": {},
   "outputs": [
    {
     "name": "stdout",
     "output_type": "stream",
     "text": [
      "[{'date_start': '1975-06-01', 'date_end': '1975-06-05'}, {'date_start': 'June 27, 1975', 'date_end': 'July 3, 1975', 'number_of_deaths': 0, 'list_of_areas_affected': ''}, {'date_start': 'July 2, 1975', 'date_end': 'July 11, 1975', 'number_of_deaths': 0, 'list_of_areas_affected': 'none'}, {'date_start': 'July 4, 1975', 'date_end': 'July 14, 1975', 'number_of_deaths': 0, 'list_of_areas_affected': 'Mexico'}, {'date_start': 'July 10, 1975', 'date_end': 'July 12, 1975', 'number_of_deaths': 0, 'list_of_areas_affected': 'Acapulco, Manzanillo'}, {'date_start': 'July 27, 1975', 'date_end': 'July 30, 1975', 'number_of_deaths': 0}, {'date_start': 'August 11, 1975', 'date_end': 'August 14, 1975', 'number_of_deaths': 0, 'list_of_areas_affected': 'none'}, {'date_start': 'August 11, 1975', 'date_end': 'August 17, 1975', 'number_of_deaths': 0, 'list_of_areas_affected': ''}, {'date_start': 'August 18, 1975', 'date_end': 'August 26, 1975'}, {'date_start': 'August 24, 1975', 'date_end': 'August 31, 1975', 'number_of_deaths': 0, 'list_of_areas_affected': ''}, {'date_start': '1975-08-29', 'date_end': '1975-09-07', 'number_of_deaths': 0, 'list_of_areas_affected': 'Socorro Island'}, {'date_start': 'August 31, 1975', 'date_end': 'September 5, 1975', 'list_of_areas_affected': 'northeast of Hawaii, north of Kauai, south of Alaska, southwest of Juneau, Alaska, coast of British Columbia, north of Montana'}, {'date_start': 'September 16, 1975', 'date_end': 'September 24, 1975', 'number_of_deaths': 0, 'list_of_areas_affected': 'Acapulco,Manzanillo,Socorro Island'}, {'date_start': 'September 28, 1975', 'date_end': 'October 1, 1975', 'number_of_deaths': 0, 'list_of_areas_affected': 'None'}, {'date_start': 'September 28, 1975', 'date_end': 'October 4, 1975', 'number_of_deaths': 0}, {'date_start': '1975-10-22', 'date_end': '1975-10-25', 'number_of_deaths': 30, 'list_of_areas_affected': 'Mazatlán'}, {'date_start': 'November 2, 1975', 'date_end': 'November 7, 1975', 'list_of_areas_affected': 'Clarion Island'}, {'date_start': '1975-07-02', 'date_end': '1975-07-03', 'list_of_areas_affected': 'none'}]\n"
     ]
    }
   ],
   "source": [
    "# print(hurri_list)"
   ]
  },
  {
   "cell_type": "code",
   "execution_count": 57,
   "metadata": {},
   "outputs": [
    {
     "name": "stdout",
     "output_type": "stream",
     "text": [
      "{'date_start': 'June 27, 1975', 'date_end': 'July 3, 1975', 'number_of_deaths': 0, 'list_of_areas_affected': ''}\n"
     ]
    }
   ],
   "source": [
    "print(hurri_list[1])"
   ]
  },
  {
   "cell_type": "code",
   "execution_count": 83,
   "metadata": {},
   "outputs": [
    {
     "name": "stdout",
     "output_type": "stream",
     "text": [
      "Data saved to hurricanes_1975.csv\n"
     ]
    }
   ],
   "source": [
    "\n",
    "# Create final DataFrame\n",
    "df = pd.DataFrame(hurricanes, columns=['hurricane_storm_name', 'date_start', 'date_end', 'number_of_deaths', \n",
    "                                       'list_of_areas_affected'])\n",
    "\n",
    "# populate the dataframe\n",
    "for index, (key, value) in enumerate(hurricanes.items()):\n",
    "    key = key.replace('[edit]', '')\n",
    "    new_row = hurri_list[index]\n",
    "    new_row.update(hurricane_storm_name=key)\n",
    "    df = df.append(new_row, ignore_index=True)\n",
    "    \n",
    "    \n",
    "# Save to CSV\n",
    "df.to_csv('hurricanes_1975.csv', index=False)\n",
    "\n",
    "print(\"Data saved to hurricanes_1975.csv\")\n"
   ]
  },
  {
   "cell_type": "code",
   "execution_count": null,
   "metadata": {},
   "outputs": [],
   "source": []
  }
 ],
 "metadata": {
  "kernelspec": {
   "display_name": "Python 3",
   "language": "python",
   "name": "python3"
  },
  "language_info": {
   "codemirror_mode": {
    "name": "ipython",
    "version": 3
   },
   "file_extension": ".py",
   "mimetype": "text/x-python",
   "name": "python",
   "nbconvert_exporter": "python",
   "pygments_lexer": "ipython3",
   "version": "3.8.3"
  }
 },
 "nbformat": 4,
 "nbformat_minor": 4
}
